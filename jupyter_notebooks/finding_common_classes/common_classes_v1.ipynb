{
 "cells": [
  {
   "cell_type": "code",
   "execution_count": null,
   "metadata": {},
   "outputs": [],
   "source": [
    "######   Find all the common classes in ontologies and save them including theri definitions"
   ]
  },
  {
   "cell_type": "code",
   "execution_count": 9,
   "metadata": {},
   "outputs": [],
   "source": [
    "# List of ontology files to process\n",
    "ontology_files = [\n",
    "    # \"../Ontologies/materialsmine.ttl\", ### is not complete!\n",
    "    \"../Ontologies/materialsmine_converted.ttl\",\n",
    "    \"../Ontologies/pmdco_core.ttl\",\n",
    "    \"../Ontologies/nfdicore_2.ttl\",\n",
    "    # \"../Ontologies/bfo.owl\", #### using this ---->  long time to proccess!\n",
    "    \"../Ontologies/emmo.ttl\",\n",
    "    # \"../Ontologies/owlapi.xrdf\",\n",
    "    \"../Ontologies/schemaorg.owl\",\n",
    "    # \"../Ontologies/MaterialsMine.xrdf\",\n",
    "    # '../Ontologies/emmo.owl', ### has problem of reading file\n",
    "    # \"../Ontologies/Physical_Activity_Ontology_V2.owl\",\n",
    "    # \"../Ontologies/Physical_Activity_Ontology_V2.xrdf\",\n",
    "    # \"../Ontologies/oboe.owl\",\n",
    "    # Add more file paths as needed\n",
    "]"
   ]
  },
  {
   "cell_type": "code",
   "execution_count": null,
   "metadata": {},
   "outputs": [],
   "source": []
  },
  {
   "cell_type": "code",
   "execution_count": 11,
   "metadata": {},
   "outputs": [
    {
     "name": "stdout",
     "output_type": "stream",
     "text": [
      "Common classes found in all ontologies have been saved to 'common_classes.csv'.\n"
     ]
    }
   ],
   "source": [
    "import csv\n",
    "import re\n",
    "from rdflib import Graph, RDF, RDFS, OWL, SKOS, Namespace, URIRef, Literal\n",
    "\n",
    "# Define namespaces\n",
    "skos = Namespace(\"http://www.w3.org/2004/02/skos/core#\")\n",
    "owl = Namespace(\"http://www.w3.org/2002/07/owl#\")\n",
    "rdfs = Namespace(\"http://www.w3.org/2000/01/rdf-schema#\")\n",
    "dcterms = Namespace(\"http://purl.org/dc/terms/\")\n",
    "\n",
    "# Function to normalize string\n",
    "def normalize_string(s):\n",
    "    s = s.lower()\n",
    "    s = re.sub(r'[_\\-+\\s]+', '', s)\n",
    "    s = s.replace('...', '')\n",
    "    return s\n",
    "\n",
    "def get_class_label(g, cls):\n",
    "    labels = list(g.objects(cls, SKOS.altLabel)) + list(g.objects(cls, SKOS.prefLabel)) + list(g.objects(cls, RDFS.label))\n",
    "    return labels[0] if labels else None\n",
    "\n",
    "def get_class_descriptions(g, cls):\n",
    "    descriptions = list(g.objects(cls, dcterms.description)) + list(g.objects(cls, SKOS.definition)) + list(g.objects(cls, RDFS.comment))\n",
    "    return \" \".join([str(desc) for desc in descriptions]) if descriptions else None\n",
    "\n",
    "def load_and_collect_classes(file_path):\n",
    "    g = Graph()\n",
    "    g.parse(file_path)\n",
    "    \n",
    "    classes = set()\n",
    "    for cls in g.subjects(RDF.type, OWL.Class):\n",
    "        if isinstance(cls, URIRef):\n",
    "            class_name = normalize_string(str(cls))\n",
    "            classes.add(class_name)\n",
    "    \n",
    "    for cls in g.subjects(RDF.type, RDFS.Class):\n",
    "        if isinstance(cls, URIRef):\n",
    "            class_name = normalize_string(str(cls))\n",
    "            classes.add(class_name)\n",
    "            \n",
    "    return classes\n",
    "\n",
    "def find_common_classes_in_ontologies(ontology_files, output_csv):\n",
    "    all_classes = []\n",
    "    common_classes = None\n",
    "\n",
    "    # Load all classes from each ontology file\n",
    "    for ontology_file in ontology_files:\n",
    "        classes = load_and_collect_classes(ontology_file)\n",
    "        all_classes.append(classes)\n",
    "        \n",
    "        if common_classes is None:\n",
    "            common_classes = classes\n",
    "        else:\n",
    "            common_classes = common_classes.intersection(classes)\n",
    "    \n",
    "    # Write common classes to CSV\n",
    "    with open(output_csv, 'w', newline='', encoding='utf-8') as csvfile:\n",
    "        csv_writer = csv.writer(csvfile)\n",
    "        csv_writer.writerow(['File Path', 'Class URI', 'Label', 'Definition'])\n",
    "        \n",
    "        for ontology_file, classes in zip(ontology_files, all_classes):\n",
    "            g = Graph()\n",
    "            g.parse(ontology_file)\n",
    "            for cls in classes:\n",
    "                if cls in common_classes:\n",
    "                    label = get_class_label(g, URIRef(cls))\n",
    "                    definition = get_class_descriptions(g, URIRef(cls))\n",
    "                    csv_writer.writerow([ontology_file, cls, label, definition])\n",
    "\n",
    "    print(f\"Common classes found in all ontologies have been saved to '{output_csv}'.\")\n",
    "\n",
    "# Example usage:\n",
    "# ontology_files = ['ontology1.ttl', 'ontology2.owl', 'ontology3.xrdf']\n",
    "output_csv = 'common_classes.csv'\n",
    "\n",
    "find_common_classes_in_ontologies(ontology_files, output_csv)\n"
   ]
  },
  {
   "cell_type": "code",
   "execution_count": null,
   "metadata": {},
   "outputs": [],
   "source": []
  }
 ],
 "metadata": {
  "kernelspec": {
   "display_name": "Python 3",
   "language": "python",
   "name": "python3"
  },
  "language_info": {
   "codemirror_mode": {
    "name": "ipython",
    "version": 3
   },
   "file_extension": ".py",
   "mimetype": "text/x-python",
   "name": "python",
   "nbconvert_exporter": "python",
   "pygments_lexer": "ipython3",
   "version": "3.12.3"
  }
 },
 "nbformat": 4,
 "nbformat_minor": 2
}
