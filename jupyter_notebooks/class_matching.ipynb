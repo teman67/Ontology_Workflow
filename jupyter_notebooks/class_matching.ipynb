{
  "cells": [
    {
      "cell_type": "code",
      "execution_count": 2,
      "metadata": {},
      "outputs": [],
      "source": [
        "import re\n",
        "from rdflib import Graph, URIRef, Literal\n",
        "from rdflib.namespace import RDFS, RDF, OWL\n",
        "import rdflib.util\n",
        "from owlready2 import get_ontology, OwlReadyOntologyParsingError, Thing\n",
        "\n",
        "def normalize_name(name):\n",
        "    \"\"\"\n",
        "    Normalize a name by converting to lowercase and removing separators.\n",
        "\n",
        "    Args:\n",
        "    - name (str): The name to normalize.\n",
        "\n",
        "    Returns:\n",
        "    - str: The normalized name.\n",
        "    \"\"\"\n",
        "    return re.sub(r'[\\s\\-_]+', '', name.lower())"
      ]
    },
    {
      "cell_type": "code",
      "execution_count": 3,
      "metadata": {},
      "outputs": [],
      "source": [
        "def get_local_name(uri):\n",
        "    \"\"\"\n",
        "    Extract the local name from a URI.\n",
        "\n",
        "    Args:\n",
        "    - uri (URIRef): The URI to extract the local name from.\n",
        "\n",
        "    Returns:\n",
        "    - str: The local name.\n",
        "    \"\"\"\n",
        "    if isinstance(uri, URIRef):\n",
        "        return uri.split('/')[-1].split('#')[-1]\n",
        "    return str(uri)\n",
        "\n",
        "def load_ontology_files(file_paths):\n",
        "    \"\"\"\n",
        "    Load ontology files into RDF graphs or OWL ontologies.\n",
        "\n",
        "    Args:\n",
        "    - file_paths (dict): A dictionary where keys are the names and values are the file paths of the ontology files.\n",
        "    \n",
        "    Returns:\n",
        "    - dict: A dictionary where keys are the names and values are the loaded RDF graphs or OWL ontologies.\n",
        "    \"\"\"\n",
        "    graphs = {}\n",
        "    for name, file_path in file_paths.items():\n",
        "        file_extension = file_path.split('.')[-1].lower()\n",
        "        if file_extension == 'owl':\n",
        "            try:\n",
        "                # Try to load OWL file using owlready2\n",
        "                onto = get_ontology(file_path).load()\n",
        "                graphs[name] = onto\n",
        "            except OwlReadyOntologyParsingError:\n",
        "                # Fallback to rdflib if owlready2 fails\n",
        "                g = Graph()\n",
        "                g.parse(file_path, format='xml')\n",
        "                graphs[name] = g\n",
        "        else:\n",
        "            # Load other RDF files using rdflib\n",
        "            g = Graph()\n",
        "            if file_extension == 'xrdf':\n",
        "                g.parse(file_path, format='xml')\n",
        "            elif file_extension == 'ttl':\n",
        "                g.parse(file_path, format='turtle')\n",
        "            else:\n",
        "                g.parse(file_path, format=rdflib.util.guess_format(file_path))\n",
        "            graphs[name] = g\n",
        "    return graphs"
      ]
    },
    {
      "cell_type": "code",
      "execution_count": null,
      "metadata": {},
      "outputs": [],
      "source": []
    }
  ],
  "metadata": {
    "accelerator": "GPU",
    "colab": {
      "name": "01 - DataCollection.ipynb",
      "provenance": []
    },
    "kernelspec": {
      "display_name": "Python 3.8.13 64-bit ('3.8.13')",
      "language": "python",
      "name": "python3"
    },
    "language_info": {
      "codemirror_mode": {
        "name": "ipython",
        "version": 3
      },
      "file_extension": ".py",
      "mimetype": "text/x-python",
      "name": "python",
      "nbconvert_exporter": "python",
      "pygments_lexer": "ipython3",
      "version": "3.12.3"
    },
    "vscode": {
      "interpreter": {
        "hash": "110cc1dee26208153f2972f08a2ad52b6a56238dc66d48e87fb757ef2996db56"
      }
    }
  },
  "nbformat": 4,
  "nbformat_minor": 0
}
