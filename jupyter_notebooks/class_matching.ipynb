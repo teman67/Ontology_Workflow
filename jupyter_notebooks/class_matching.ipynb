{
  "cells": [
    {
      "cell_type": "code",
      "execution_count": 2,
      "metadata": {},
      "outputs": [],
      "source": [
        "import re\n",
        "from rdflib import Graph, URIRef, Literal\n",
        "from rdflib.namespace import RDFS, RDF, OWL\n",
        "import rdflib.util\n",
        "from owlready2 import get_ontology, OwlReadyOntologyParsingError, Thing\n",
        "\n",
        "def normalize_name(name):\n",
        "    \"\"\"\n",
        "    Normalize a name by converting to lowercase and removing separators.\n",
        "\n",
        "    Args:\n",
        "    - name (str): The name to normalize.\n",
        "\n",
        "    Returns:\n",
        "    - str: The normalized name.\n",
        "    \"\"\"\n",
        "    return re.sub(r'[\\s\\-_]+', '', name.lower())"
      ]
    },
    {
      "cell_type": "code",
      "execution_count": null,
      "metadata": {},
      "outputs": [],
      "source": []
    }
  ],
  "metadata": {
    "accelerator": "GPU",
    "colab": {
      "name": "01 - DataCollection.ipynb",
      "provenance": []
    },
    "kernelspec": {
      "display_name": "Python 3.8.13 64-bit ('3.8.13')",
      "language": "python",
      "name": "python3"
    },
    "language_info": {
      "codemirror_mode": {
        "name": "ipython",
        "version": 3
      },
      "file_extension": ".py",
      "mimetype": "text/x-python",
      "name": "python",
      "nbconvert_exporter": "python",
      "pygments_lexer": "ipython3",
      "version": "3.12.3"
    },
    "vscode": {
      "interpreter": {
        "hash": "110cc1dee26208153f2972f08a2ad52b6a56238dc66d48e87fb757ef2996db56"
      }
    }
  },
  "nbformat": 4,
  "nbformat_minor": 0
}
